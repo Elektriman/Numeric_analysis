{
 "cells": [
  {
   "cell_type": "markdown",
   "metadata": {},
   "source": [
    "<p style=\"text-align:center; font-size:300%; line-height:300%; font-weight:bold; background-color:#2F52A3; color:white\">Intégration</p>"
   ]
  },
  {
   "cell_type": "markdown",
   "metadata": {},
   "source": [
    "<div style=\"font-weight:bold; background-color:#61C3CE\">\n",
    "    Evaluation :\n",
    "    <ul>\n",
    "        <li>Calculs exacts d'intégrales.</li>\n",
    "        <li>Utilisation d'une méthode approchée pour calculer\n",
    "            des intégrales.</li>\n",
    "    </ul>\n",
    "</div>"
   ]
  },
  {
   "cell_type": "markdown",
   "metadata": {},
   "source": [
    "**Recommandations :**\n",
    "\n",
    "+ Respectez rigoureusement l'interface des fonctions, et les consignes.\n",
    "+ Copiez-collez le code de votre fonction (ne contenant aucun print ou autre effet de bord)\n",
    "+ Utilisez les alias définis ci-dessous.\n",
    "+ Même si vous travaillez à plusieurs, faites un dépôt par personne."
   ]
  },
  {
   "cell_type": "markdown",
   "metadata": {},
   "source": [
    "**Objectifs :**\n",
    "\n",
    "+ Calculer des valeurs exactes d'intégrales\n",
    "+ Mettre en oeuvre une méthode approchée de calcul d'intégrales\n",
    "+ Utiliser le calcul intégral pour calculer des probabilités\n",
    "+ Utiliser la transformée de Fourier pour mettre en oeuvre un filtre"
   ]
  },
  {
   "cell_type": "code",
   "execution_count": 1,
   "metadata": {},
   "outputs": [],
   "source": [
    "%matplotlib inline\n",
    "\n",
    "import numpy as np\n",
    "import numpy.random\n",
    "\n",
    "import matplotlib.pyplot as plt\n",
    "from scipy.integrate import quad\n",
    "\n",
    "import time\n",
    "import random\n",
    "import math"
   ]
  },
  {
   "cell_type": "markdown",
   "metadata": {},
   "source": [
    "<p style=\"font-size:150%; line-height:150%; font-weight:bold; color:#AD84AD\">Pour aller plus loin :</p>\n",
    "\n",
    "Les paragraphes \"pour aller plus loin\" sont à traiter en seconde lecture, après avoir fini tous les autres points"
   ]
  },
  {
   "cell_type": "markdown",
   "metadata": {},
   "source": [
    "<p style=\"font-size:200%; line-height:200%; font-weight:bold; background-color:#2F52A3; color:white\">Introduction</p>"
   ]
  },
  {
   "cell_type": "markdown",
   "metadata": {},
   "source": [
    "<p style=\"font-size:150%; line-height:150%; font-weight:bold; color:#2F52A3\">Applications</p>\n",
    "\n",
    "+ Usage 1 : Analyse de données (calcul de probabilités)\n",
    "+ Usage 2 : Traitement du signal (transformée de Fourier)\n",
    "\n",
    "<p style=\"font-size:150%; line-height:150%; font-weight:bold; color:#2F52A3\">Points de vues</p>\n",
    "\n",
    "+ Analytiquement, un calcul d'intégrale est un calcul de primitive :\n",
    "\n",
    "$$\\int_a^b f(x)dx = \\lbrack F(x) \\rbrack_a^b = F(b) - F(a)$$\n",
    "\n",
    "où $F$ est **une** primitive quelconque de $f$.\n",
    "\n",
    "+ Géométriquement, l'intégrale d'une fonction $f$ entre $a$ et $b$ correspond à l'aire sous la courbe :\n",
    "\n",
    "$$\\int_a^b f(x)dx = \\int_{-1}^{1} e^{-x^2}dx$$\n",
    "\n",
    "+ En tout généralité, l'intégrale est un opérateur de **mesure**, par exemple l'intégrale ci-dessous permet de calculer la longueur d'une ellipse dont les demi-grands axes mesurent $a$ et $b$ :\n",
    "\n",
    "$$\\int_0^{2\\pi} \\sqrt{a^2 \\cos^2 (t) + b^2 \\sin^2 (t)}dt$$"
   ]
  },
  {
   "cell_type": "code",
   "execution_count": 6,
   "metadata": {},
   "outputs": [
    {
     "data": {
      "image/png": "[encoded data removed]",
      "text/plain": [
       "<Figure size 432x288 with 1 Axes>"
      ]
     },
     "metadata": {},
     "output_type": "display_data"
    }
   ],
   "source": [
    "x = np.linspace(-2,2,200)\n",
    "y = np.exp(-x**2)\n",
    "# print(x)\n",
    "plt.plot(x,y)\n",
    "plt.plot(x,np.zeros(200))\n",
    "\n",
    "x = np.linspace(-1,1,100)\n",
    "y = np.exp(-x**2)\n",
    "y[0]=0\n",
    "y[np.size(y)-1]=0\n",
    "plt.fill(x,y)\n",
    "plt.show()"
   ]
  },
  {
   "cell_type": "markdown",
   "metadata": {},
   "source": [
    "<p style=\"font-size:200%; line-height:200%; font-weight:bold; background-color:#2F52A3; color:white\">Calculs exacts d'intégrales via les primitives</p>"
   ]
  },
  {
   "cell_type": "markdown",
   "metadata": {},
   "source": [
    "<p style=\"font-size:150%; line-height:150%; font-weight:bold; background-color:#FFDD00\">Exercice de CM : \"papier-crayon\"</p>\n",
    "\n",
    "+ $\\displaystyle\\int_1^2 xdx = \\frac{3}{2}$\n",
    "+ $\\displaystyle\\int_0^{\\frac{\\pi}{2}} \\cos(x)dx = 1$\n",
    "+ $\\displaystyle\\int_0^1 \\frac{1}{1+x}dx = \\ln(2) \\simeq 0.69$\n",
    "+ $\\displaystyle\\int_{0}^{1} x e^{-x^2}dx = \\frac{1-e^{-1}}{2} \\simeq 0.32$\n",
    "+ $\\displaystyle\\int_{0}^{\\sqrt{\\frac{\\pi}{2}}} x \\cos(x^2)dx = \\frac{1}{2}$\n",
    "+ $\\displaystyle\\int_{0}^{\\pi} x \\cos(x) dx = \\pi$\n",
    "+ $\\displaystyle\\int_{1}^{2} \\ln(x) dx = 2 \\ln (2) -1$\n",
    "\n",
    "**Remarques :** \n",
    "\n",
    "+ En général, la valeur exacte d'une intégrale est *inaccessible*.\n",
    "+ Lorsqu'elle l'est, il faut en profiter !\n",
    "+ Une valeur numérique approchée à une précision arbitraire est généralement accessible."
   ]
  },
  {
   "cell_type": "markdown",
   "metadata": {},
   "source": [
    "<p style=\"font-size:200%; line-height:200%; font-weight:bold; background-color:#2F52A3; color:white\">Méthodes numériques</p>"
   ]
  },
  {
   "cell_type": "markdown",
   "metadata": {},
   "source": [
    "<p style=\"font-size:150%; line-height:150%; font-weight:bold; color:#2F52A3\">Fonction \"sur l'étagère\"</p>"
   ]
  },
  {
   "cell_type": "markdown",
   "metadata": {},
   "source": [
    "Calcul de l'intégrale :\n",
    "$$4\\int_0^1 \\sqrt{1 - x^2}\\,dx$$"
   ]
  },
  {
   "cell_type": "code",
   "execution_count": 2,
   "metadata": {},
   "outputs": [
    {
     "name": "stdout",
     "output_type": "stream",
     "text": [
      "3.1415926535897922\n"
     ]
    }
   ],
   "source": [
    "# Utilisation de la fonction `quad` du module `scipy.integrate`\n",
    "\n",
    "# quad retourne un tableau dont le premier élément contient l'intégrale.\n",
    "resultat = 4*quad(lambda x : np.sqrt(1 - x ** 2),0,1)[0]\n",
    "\n",
    "print(resultat)"
   ]
  },
  {
   "cell_type": "markdown",
   "metadata": {},
   "source": [
    "Vous pourrez utiliser cette fonction :\n",
    "\n",
    "+ pour vérifier les résultats retournés par vos propres fonctions\n",
    "+ pour les calculs de probabilités\n",
    "+ dans l'application sur la transformée de Fourier"
   ]
  },
  {
   "cell_type": "markdown",
   "metadata": {},
   "source": [
    "<p style=\"font-size:150%; line-height:150%; font-weight:bold; background-color:#FFDD00\">Exercice de TP : Fonction \"sur l'étagère\"</p>"
   ]
  },
  {
   "cell_type": "markdown",
   "metadata": {},
   "source": [
    "#### Vérification des calculs exacts\n",
    "\n",
    "Sept intégrales sont données dans l'exercice de CM de la partie \"Calcul exacts\".\n",
    "\n",
    "Vérifiez avec la fonction `quad` que ces valeurs sont les bonnes."
   ]
  },
  {
   "cell_type": "code",
   "execution_count": null,
   "metadata": {},
   "outputs": [],
   "source": [
    "# Insérez votre code"
   ]
  },
  {
   "cell_type": "markdown",
   "metadata": {},
   "source": [
    "#### Calculs de probabilités\n",
    "\n",
    "Dans le calcul des probabilités, la densité de la loi normale de moyenne $\\mu$ et d'écart type $\\sigma$ est donnée \n",
    "par :\n",
    "\n",
    "$$ f(x) = \\frac{1}{\\sqrt{2 \\pi}\\sigma} e^{-\\displaystyle\\frac{1}{2}\\left(\\frac{x - \\mu}{\\sigma} \\right)^2}$$\n",
    "\n",
    "+ Soit $X$ une variable aléatoire suivant une loi normale de moyenne $\\mu = 10$ et d'écart-type $\\sigma = 2$. Calculez\n",
    "la probabilité :\n",
    "$$ P( X \\in \\lbrack \\mu - \\sigma, \\mu + \\sigma \\rbrack ) $$\n",
    "\n",
    "+ Soit $X$ une variable aléatoire suivant une loi normale de moyenne $\\mu = 200$ et d'écart-type $\\sigma = 50$. Calculez\n",
    "la probabilité :\n",
    "$$ P( X \\in \\lbrack \\mu - 2\\sigma, \\mu + 2\\sigma \\rbrack ) $$"
   ]
  },
  {
   "cell_type": "code",
   "execution_count": null,
   "metadata": {},
   "outputs": [],
   "source": [
    "# Insérez votre code"
   ]
  },
  {
   "cell_type": "markdown",
   "metadata": {},
   "source": [
    "**Appelez l'enseignant pour qu'il valide vos calculs.**"
   ]
  },
  {
   "cell_type": "markdown",
   "metadata": {},
   "source": [
    "<p style=\"font-size:150%; line-height:150%; font-weight:bold; color:#2F52A3\">Méthode des rectangles</p>"
   ]
  },
  {
   "cell_type": "markdown",
   "metadata": {},
   "source": [
    "+ On découpe l'intervalle d'intégration $\\lbrack a,b \\rbrack$ en $n$ parties de même largeur $x_0=a,x_1,\\ldots,x_{n-1},x_n=b$. \n",
    "+ On calcule l'aire des rectangles de côtés $\\lbrack x_k,x_{k+1} \\rbrack$, $\\lbrack 0,f(x_k) \\rbrack$. \n",
    "+ On fait la somme des aires de ces rectangles : \n",
    "\n",
    "$$S_n = \\sum_{k=0}^{n-1} (x_{k+1} - x_k) f(x_k)$$\n",
    "\n",
    "**Théorème :** Si $f$ est continue par morcreaux, alors lorsque $n$ tend vers l'infini, cette somme tend vers l'intégrale.\n",
    "\n",
    "$$\\int_a^b f(x)dx = \\lim_{n \\to +\\infty} S_n$$\n"
   ]
  },
  {
   "cell_type": "markdown",
   "metadata": {},
   "source": [
    "<p style=\"font-size:150%; line-height:150%; font-weight:bold; background-color:#FFDD00\">Exercice de CM : \"à la calculatrice\"</p>\n",
    "\n",
    "Calculer les premières valeurs approchées par la méthode des rectangles de l'intégrale :\n",
    "\n",
    "$$ \\int_{-1}^{1} e^{-x^2}\\,dx $$"
   ]
  },
  {
   "cell_type": "code",
   "execution_count": 3,
   "metadata": {},
   "outputs": [
    {
     "data": {
      "image/png": "[encoded data removed]",
      "text/plain": [
       "<Figure size 432x288 with 1 Axes>"
      ]
     },
     "metadata": {
      "needs_background": "light"
     },
     "output_type": "display_data"
    }
   ],
   "source": [
    "x = np.linspace(-2,2,200)\n",
    "y = np.exp(-x**2)\n",
    "plt.plot(x,y)\n",
    "plt.plot(x,np.zeros(200))\n",
    "\n",
    "x = np.array([-1,-0.5,0,0.5,1])\n",
    "y = np.exp(-x**2)\n",
    "for k in range(4):\n",
    "    plt.fill([x[k],x[k],x[k+1],x[k+1]],[0,y[k],y[k],0],color = 'orange')\n",
    "plt.show()"
   ]
  },
  {
   "cell_type": "markdown",
   "metadata": {},
   "source": [
    "<p style=\"font-size:150%; line-height:150%; font-weight:bold; background-color:#FFDD00\">Exercice de TP : Méthode des rectangles</p>"
   ]
  },
  {
   "cell_type": "markdown",
   "metadata": {},
   "source": [
    "+ Implémentez une fonction `rect(f,a,b,n)` qui retourne la somme :\n",
    "$$\\sum_{k=0}^{n-1} (x_{k+1} - x_k) f(x_k)$$\n",
    "où les $(x_k)_{1\\leq k \\leq n}$ sont équirépartis dans l'intervalle $\\lbrack a,b\\rbrack$.\n",
    "+ Testez votre fonction avec les exemples précédents et comparez avec comparez avec la fonction `quad`"
   ]
  },
  {
   "cell_type": "code",
   "execution_count": 1,
   "metadata": {},
   "outputs": [],
   "source": [
    "# Insérez votre code ici"
   ]
  },
  {
   "cell_type": "markdown",
   "metadata": {},
   "source": [
    "**Déposez votre fonction `rect(f,a,b,n)` sur Moodle avant la fin de la semaine**"
   ]
  },
  {
   "cell_type": "markdown",
   "metadata": {},
   "source": [
    "<p style=\"font-size:150%; line-height:150%; font-weight:bold; color:#2F52A3\">Méthode des trapèzes</p>"
   ]
  },
  {
   "cell_type": "markdown",
   "metadata": {},
   "source": [
    "C'est comme les rectangles $\\ldots$ mais on fait des trapèzes !\n",
    "\n",
    "S'il n'y a qu'un seul rectangle pour tout l'intervalle $\\lbrack a,b \\rbrack$ pour la fonction $f$ alors son aire est :\n",
    "\n",
    "$$\\frac{(b-a)(f(a) + f(b))}{2}$$"
   ]
  },
  {
   "cell_type": "code",
   "execution_count": 4,
   "metadata": {},
   "outputs": [
    {
     "data": {
      "image/png": "[encoded data removed]",
      "text/plain": [
       "<Figure size 432x288 with 1 Axes>"
      ]
     },
     "metadata": {
      "needs_background": "light"
     },
     "output_type": "display_data"
    }
   ],
   "source": [
    "x = np.linspace(-2,2,200)\n",
    "y = np.exp(-x**2)\n",
    "\n",
    "plt.plot(x,y)\n",
    "plt.plot(x,np.zeros(200))\n",
    "\n",
    "x = [-1,-1,0,0]\n",
    "y = [0,np.exp(-(-1)**2),np.exp(-(0)**2),0]\n",
    "plt.fill(x,y)\n",
    "plt.show()"
   ]
  },
  {
   "cell_type": "markdown",
   "metadata": {},
   "source": [
    "<p style=\"font-size:150%; line-height:150%; font-weight:bold; background-color:#FFDD00\">Exercice de TP : Méthode des trapèzes</p>\n",
    "\n",
    "+ Comme pour les rectangles, implémentez une fonction `trap(f,a,b,n)`\n",
    "+ Comparez cette méthode à la précédente en faisant varier le pas.\n",
    "+ Testez votre fonction avec les exemples précédents et comparez avec comparez avec la fonction `quad`"
   ]
  },
  {
   "cell_type": "code",
   "execution_count": null,
   "metadata": {},
   "outputs": [],
   "source": [
    "# Insérez votre code"
   ]
  },
  {
   "cell_type": "markdown",
   "metadata": {},
   "source": [
    "**Déposez votre fonction `trap(f,a,b,n)` sur Moodle avant la fin de la semaine**"
   ]
  },
  {
   "cell_type": "markdown",
   "metadata": {},
   "source": [
    "<p style=\"font-size:150%; line-height:150%; font-weight:bold; color:#AD84AD\">Pour aller plus loin :</p>"
   ]
  },
  {
   "cell_type": "markdown",
   "metadata": {},
   "source": [
    "+ La méthode des rectangles consiste à approximer la fonction à intéger par une fonction constante.\n",
    "De plus, l'approximation est obtenue par une interpolation \"au point de départ $a$\".\n",
    "C'est à dire que $x \\mapsto f(x)$ est remplacée par $x \\mapsto f(a)$.\n",
    "\n",
    "+ La méthode des trapèzes consiste à approximer la fonction à intéger par une fonction affine.\n",
    "De plus, l'approximation affine est obtenue par une interpolation \"aux extrémités $a$ et $b$\".\n",
    "C'est à dire que $x \\mapsto f(x)$ est remplacée par la droite joignant les points $(a,f(a))$ et $(b,f(b))$.\n",
    "\n",
    "+ La méthode de Simpson consiste à approximer la fonction à intégrer par une parabole.\n",
    "De plus, la parabole est obtenue par une interpolation aux points $a$, $b$ et $\\frac{a+b}{2}$.\n",
    "C'est à dire que $x \\mapsto f(x)$ est remplacée par la parabole interpolant les points $(a,f(a))$, $(\\frac{a+b}{2},f(\\frac{a+b}{2}))$ et $(b,f(b))$.\n",
    "\n",
    "Implémentez la méthode de Simpson et comparez aux précédentes."
   ]
  },
  {
   "cell_type": "markdown",
   "metadata": {},
   "source": [
    "<p style=\"font-size:150%; line-height:150%; font-weight:bold; color:#2F52A3\">Méthode de Monte-Carlo</p>\n",
    "\n",
    "+ L'intégrale permet de calculer la moyenne d'une fonction sur un intervalle. \n",
    "+ Inversement, pour calculer une intégrale, il suffit de faire la moyenne des valeurs prises par la fonction.\n",
    "+ Ce n'est pas très efficace, mais ça fonctionne.\n",
    "\n",
    "La méthode de Monte-Carlo consiste à prendre $n$ valeurs aléatoires uniformément réparties $x_1,\\ldots,x_n$ dans l'intervalle $\\lbrack a,b \\rbrack$ et à approximer l'intégrale de $f$ entre $a$ et $b$ par :\n",
    "\n",
    "$$ \\frac{1}{b-a}\\int_a^b f(x) dx \\simeq \\frac{1}{n} \\sum_{k=1}^n f(x_k) $$\n",
    "\n",
    "**Remarques :**\n",
    "\n",
    "+ Le théorème de convergence de cette méthode dépasse le cadre de ce cours (il s'agit essentiellement de la loi des grands nombres)\n",
    "+ La méthode de Monte-Carlo est bien plus générale que le calcul d'intégrales. Elle est très présente en apprentissage automatique.\n",
    "+ La \"philosophie Monte-Carlo\" consiste à répéter un grand nombre de fois une opération simple."
   ]
  },
  {
   "cell_type": "code",
   "execution_count": 6,
   "metadata": {},
   "outputs": [
    {
     "name": "stdout",
     "output_type": "stream",
     "text": [
      "[0.6573301  0.40110871 0.26537501 0.3285386  0.92557562]\n"
     ]
    }
   ],
   "source": [
    "# Exemple d'utilisation de random\n",
    "\n",
    "x = np.random.random(5)\n",
    "\n",
    "print(x)"
   ]
  },
  {
   "cell_type": "markdown",
   "metadata": {},
   "source": [
    "<p style=\"font-size:150%; line-height:150%; font-weight:bold; background-color:#FFDD00\">Exercice de TP :</p>\n",
    "\n",
    "Implémentez une fonction `montecarlo(f,a,b,n)` qui retourne à nouveau l'intégrale de $f$ entre $a$ et $b$, calculée à partir de la moyenne de $n$ valeurs aléatoires prises par $f$ dans l'intervalle $\\lbrack a,b \\rbrack$."
   ]
  },
  {
   "cell_type": "code",
   "execution_count": 2,
   "metadata": {},
   "outputs": [],
   "source": [
    "# Insérez votre code ici"
   ]
  },
  {
   "cell_type": "markdown",
   "metadata": {},
   "source": [
    "**Déposez votre fonction `montecarlo(f,a,b,n)` sur Moodle avant la fin de la semaine**"
   ]
  },
  {
   "cell_type": "markdown",
   "metadata": {},
   "source": [
    "<p style=\"font-size:150%; line-height:150%; font-weight:bold; color:#AD84AD\">Pour aller plus loin :</p>"
   ]
  },
  {
   "cell_type": "markdown",
   "metadata": {},
   "source": [
    "+ Pour chacune des trois méthodes d'intégration, déterminez empiriquement la valeur de $n$ donnant le résultat avec une précision de cinq chiffres.\n",
    "+ Comparez les temps de calcul\n",
    "+ Reprenez le code d'une de vos fonctions d'intégration et modifiez-le de manière à avoir deux versions : l'une faisant tous les calculs avec `numpy`, l'autre n'utilisant pas `numpy`.\n",
    "+ Comparez les temps de calcul"
   ]
  },
  {
   "cell_type": "code",
   "execution_count": 3,
   "metadata": {},
   "outputs": [
    {
     "name": "stdout",
     "output_type": "stream",
     "text": [
      "Résultat : 499999500000, Temps : 0.099051\n",
      "Résultat : 499999500000, Temps : 0.002677999999999958\n"
     ]
    }
   ],
   "source": [
    "# Outils pour le TP\n",
    "# Détermination du temps de calcul\n",
    "# Calcul vectoriel\n",
    "\n",
    "N = 1000000 # Ajoutez des 0 et méditez !\n",
    "tps = time.clock()\n",
    "som = 0\n",
    "for i in range(N):\n",
    "    som += i\n",
    "tps = time.clock() - tps\n",
    "print(\"Résultat : \" + str(som) + \", Temps : \" + str(tps))\n",
    "\n",
    "tps = time.clock()\n",
    "som = np.sum(np.arange(N))\n",
    "tps = time.clock() - tps\n",
    "print(\"Résultat : \" + str(som) + \", Temps : \" + str(tps))"
   ]
  },
  {
   "cell_type": "code",
   "execution_count": 4,
   "metadata": {},
   "outputs": [],
   "source": [
    "# Insérez votre code"
   ]
  },
  {
   "cell_type": "markdown",
   "metadata": {},
   "source": [
    "<p style=\"font-size:150%; line-height:150%; font-weight:bold; background-color:#FFDD00\">Exercice de TP</p>"
   ]
  },
  {
   "cell_type": "markdown",
   "metadata": {},
   "source": [
    "On considère la fonction $f(x) = \\sqrt{1-x^2}$\n",
    "\n",
    "+ Tracez cette fonction sur l'intervalle $\\lbrack 0,1 \\rbrack$.\n",
    "+ De manière aléatoire, piochez un grand nombre de points de coordonnées $(x;y)$ dans le carré $\\lbrack 0,1\\rbrack^2$.\n",
    "+ Sur la figure précédente, lorsqu'un point est sous la courbe affichez-le en rouge, s'il est au-dessus affichez-le en noir.\n",
    "+ Calculez la proportion de points rouges. Multipliez-la par quatre (ça ne s'invente pas ! faites confiance à l'énoncé)\n",
    "+ Calculez l'intégrale $4\\int_0^1 \\sqrt{1-x^2}dx$. Hé hé !\n",
    "+ <a href=\"https://youtu.be/JYqjcHYTQgQ\">Expliquez</a> :-)"
   ]
  },
  {
   "cell_type": "code",
   "execution_count": 3,
   "metadata": {},
   "outputs": [],
   "source": [
    "# Insérez votre code ici"
   ]
  },
  {
   "cell_type": "markdown",
   "metadata": {},
   "source": [
    "**Appelez l'enseignant pour qu'il valide votre représentation graphique.**"
   ]
  },
  {
   "cell_type": "markdown",
   "metadata": {},
   "source": [
    "<p style=\"font-size:200%; line-height:200%; font-weight:bold; background-color:#2F52A3; color:white\">Introduction à la transformée de Fourier</p>"
   ]
  },
  {
   "cell_type": "markdown",
   "metadata": {},
   "source": [
    "<p style=\"font-size:150%; line-height:150%; font-weight:bold; color:#2F52A3\">Idées directrices</p>\n",
    "\n",
    "+ Approximer des fonctions périodiques à l'aide des fonctions trigonométriques\n",
    "+ Représenter des signaux en machine"
   ]
  },
  {
   "cell_type": "markdown",
   "metadata": {},
   "source": [
    "<p style=\"font-size:150%; line-height:150%; font-weight:bold; color:#2F52A3\">Exemple</p>\n",
    "\n",
    "Nous allons étudier une superposition de signaux sinusoïdaux\n",
    "\n",
    "$$f(x) = 2 \\sin(x) + 3 \\sin (2x) + 5 \\sin (4x)$$"
   ]
  },
  {
   "cell_type": "code",
   "execution_count": 13,
   "metadata": {},
   "outputs": [
    {
     "data": {
      "image/png": "[encoded data removed]",
      "text/plain": [
       "<Figure size 432x288 with 1 Axes>"
      ]
     },
     "metadata": {
      "needs_background": "light"
     },
     "output_type": "display_data"
    }
   ],
   "source": [
    "def f(x):\n",
    "    return 2*np.sin(x) + 3*np.sin(2*x) + 5*np.sin(4*x)\n",
    "\n",
    "x = np.linspace(0,2*math.pi,500)\n",
    "\n",
    "plt.plot(x,f(x))\n",
    "plt.show()"
   ]
  },
  {
   "cell_type": "markdown",
   "metadata": {},
   "source": [
    "Lorsque l'on considère des fonctions \"à base de sinus\" :\n",
    "\n",
    "+ Le signal précédent peut être représenté de la manière suivante : (Freq 4, Ampli 5), (Freq 2, Ampli 3), (Freq 1, Ampli 2). La transformée de Fourier permet d'obtenir cette représentation à partir de la fonction via un calcul d'intégrales :\n",
    "\n",
    "$$ \\hbox{Ampli} = \\frac{1}{\\pi} \\int_0^{2\\pi} f(x) \\sin( \\hbox{Freq}\\, x) dx$$\n",
    "\n",
    "La formule précédente n'est valable que sous certaines hypothèses, en particulier la fonction doit être $2\\pi$-périodique.\n",
    "\n",
    "+ Cette représentation (Freq, Ampli) permet de lisser un bruit éventuel et de tronquer les hautes fréquences. C'est la base de la compression MP3."
   ]
  },
  {
   "cell_type": "markdown",
   "metadata": {},
   "source": [
    "<p style=\"font-size:150%; line-height:150%; font-weight:bold; background-color:#FFDD00\">Exercice de CM</p>\n",
    "\n",
    "Calculer à la main quelques amplitudes pour l'exemple précédent."
   ]
  },
  {
   "cell_type": "code",
   "execution_count": 10,
   "metadata": {},
   "outputs": [
    {
     "name": "stdout",
     "output_type": "stream",
     "text": [
      "5.000000000000001\n"
     ]
    }
   ],
   "source": [
    "# Exemple\n",
    "\n",
    "def b(n,f):\n",
    "    return 1/math.pi*quad(lambda x:f(x)*math.sin(n*x),0,2*math.pi)[0]\n",
    "\n",
    "print(b(4,f))"
   ]
  },
  {
   "cell_type": "code",
   "execution_count": 11,
   "metadata": {},
   "outputs": [
    {
     "name": "stdout",
     "output_type": "stream",
     "text": [
      "[4, 6, 8, 4, 4, 6, 10, 3, 3, 1]\n",
      "[3, 5, 8, 3, 8, 4, 8, 3, 10, 8]\n"
     ]
    },
    {
     "data": {
      "image/png": "[encoded data removed]",
      "text/plain": [
       "<Figure size 432x288 with 1 Axes>"
      ]
     },
     "metadata": {
      "needs_background": "light"
     },
     "output_type": "display_data"
    }
   ],
   "source": [
    "\"\"\"\n",
    "A CONSERVER\n",
    "Génération d'un signal bruité\n",
    "\"\"\"\n",
    "\n",
    "# Variables globales\n",
    "N = 10\n",
    "Ampli = [random.randint(1,N) for i in range(N)]\n",
    "Freq = [random.randint(1,N) for i in range(N)]\n",
    "print(Ampli)\n",
    "print(Freq)\n",
    "\n",
    "def signal_bruit(x):\n",
    "    return numpy.sum([Ampli[i]*numpy.sin(Freq[i]*x) + random.random() for i in range(N)])\n",
    "\n",
    "X = numpy.linspace(0,2*math.pi,400)\n",
    "plt.plot(X,[signal_bruit(x) for x in X])\n",
    "plt.show()"
   ]
  },
  {
   "cell_type": "markdown",
   "metadata": {},
   "source": [
    "<p style=\"font-size:150%; line-height:150%; font-weight:bold; background-color:#FFDD00\">Exercice de TP :</p>"
   ]
  },
  {
   "cell_type": "markdown",
   "metadata": {},
   "source": [
    "Sachant que les fréquences sont limitées à N :\n",
    "\n",
    "+ Décomposez le signal bruité en (Freq, Ampli)\n",
    "+ Reconstruisez-le (sans le bruit)\n",
    "+ Coupez les fréquences supérieures à N/2.\n",
    "+ Représentez le tout sur un même graphique"
   ]
  },
  {
   "cell_type": "code",
   "execution_count": 4,
   "metadata": {
    "scrolled": true
   },
   "outputs": [],
   "source": [
    "# Insérez votre code ici"
   ]
  },
  {
   "cell_type": "markdown",
   "metadata": {},
   "source": [
    "**Appelez l'enseignant pour qu'il valide votre représentation graphique.**"
   ]
  },
  {
   "cell_type": "markdown",
   "metadata": {},
   "source": [
    "<p style=\"font-size:150%; line-height:150%; font-weight:bold; color:#D67D3A\">Attention : </p>\n",
    "\n",
    "+ Pour le TP03, pendant la séance, vous avez $3$ exercices à montrer : usage de la fonction `quad`, graphique du quart de cercle, graphique de Fourier.\n",
    "+ Pour le TP03, avant la fin de semaine, vous avez $3$ fonctions à déposer : `rect(f,a,b,n)`, `trap(f,a,b,n)`, `montecarlo(f,a,b,n)`.\n",
    "+ Lors de l'évaluation sur feuille, il vous sera demandé de calculer \"à la main\", quelques intégrales de manière exacte puis quelques valeurs approchées à l'aide des méthodes précédentes."
   ]
  },
  {
   "cell_type": "code",
   "execution_count": null,
   "metadata": {},
   "outputs": [],
   "source": []
  }
 ],
 "metadata": {
  "kernelspec": {
   "display_name": "Python 3",
   "language": "python",
   "name": "python3"
  },
  "language_info": {
   "codemirror_mode": {
    "name": "ipython",
    "version": 3
   },
   "file_extension": ".py",
   "mimetype": "text/x-python",
   "name": "python",
   "nbconvert_exporter": "python",
   "pygments_lexer": "ipython3",
   "version": "3.8.5"
  }
 },
 "nbformat": 4,
 "nbformat_minor": 2
}
