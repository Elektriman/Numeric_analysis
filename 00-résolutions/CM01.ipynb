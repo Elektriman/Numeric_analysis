{
 "cells": [
  {
   "cell_type": "markdown",
   "metadata": {},
   "source": [
    "<p style=\"text-align:center; font-size:300%; line-height:300%; font-weight:bold; background-color:#2F52A3; color:white\">Résolutions</p>"
   ]
  },
  {
   "cell_type": "markdown",
   "metadata": {},
   "source": [
    "**Recommandations :**\n",
    "\n",
    "+ Préférez les notebooks à la version pdf\n",
    "+ Pas d'installation en TP\n",
    "+ Vous pouvez utiliser les VM LINUX\n"
   ]
  },
  {
   "cell_type": "markdown",
   "metadata": {},
   "source": [
    "**Objectifs :**\n",
    "\n",
    "+ Résoudre une équation du second degré, à l'aide d'une formule exacte.\n",
    "+ Résoudre numériquement une équation de la forme $f(x) = 0$ avec une méthode \"sur l'étagère\"\n",
    "+ Résoudre numériquement une équation de la forme $f(x) = 0$ avec une méthode \"codée à la main\" : dichotomie, Newton, point fixe.\n",
    "+ Représentez graphiquement l'évolution d'une suite d'approximations\n",
    "+ Utilisez différentes conditions d'arrêt dans un algorithme itératif"
   ]
  },
  {
   "cell_type": "code",
   "execution_count": 1,
   "metadata": {},
   "outputs": [],
   "source": [
    "%matplotlib inline\n",
    "import matplotlib.pyplot as plt\n",
    "import math\n",
    "import numpy as np\n",
    "\n",
    "from scipy.optimize import fsolve"
   ]
  },
  {
   "cell_type": "markdown",
   "metadata": {},
   "source": [
    "<p style=\"font-size:150%; line-height:150%; font-weight:bold; color:#D67D3A\">Attention : </p>\n",
    "\n",
    "+ Respectez rigoureusement l'interface des fonctions, et les consignes.\n",
    "\n",
    "+ Copiez-collez le code de votre fonction (ne contenant aucun print, ni effet de bord)\n",
    "\n",
    "+ Utilisez les alias définis ci-dessus.\n",
    "\n",
    "+ Même si vous travaillez à plusieurs, faites un dépôt par personne."
   ]
  },
  {
   "cell_type": "markdown",
   "metadata": {},
   "source": [
    "<p style=\"font-size:150%; line-height:150%; font-weight:bold; color:#AD84AD\">Pour aller plus loin :</p>\n",
    "\n",
    "Les paragraphes \"Pour aller plus loin\" sont à traiter en seconde lecture, après avoir fini tous les autres points."
   ]
  },
  {
   "cell_type": "markdown",
   "metadata": {},
   "source": [
    "<p style=\"font-size:200%; line-height:200%; font-weight:bold; background-color:#2F52A3; color:white\">Résolutions exactes</p>\n",
    "\n",
    "En dehors de quelques cas particuliers très simples, on ne sait pas résoudre de manière exacte une équation et même il est prouvé que ce n'est pas possible.\n",
    "\n",
    "**Question \"philosophique\" :** Qu'est ce que résoudre une équation de manière exacte ?"
   ]
  },
  {
   "cell_type": "markdown",
   "metadata": {},
   "source": [
    "<p style=\"font-size:150%; line-height:150%; font-weight:bold; color:#2F52A3\">Equation du second degré</p>"
   ]
  },
  {
   "cell_type": "markdown",
   "metadata": {},
   "source": [
    "On considère l'équation du second degré :\n",
    "$$ax^2 + bx + c = 0$$\n",
    "Pour résoudre cette équation :\n",
    "+ On calcule le discriminant $\\Delta$\n",
    "$$\\Delta = b^2 - 4ac$$\n",
    "+ Si $\\Delta > 0$, l'équation a deux solutions réelles :\n",
    "$$x = \\frac{-b \\pm \\sqrt{\\Delta}}{2a}$$\n",
    "+ Si $\\Delta = 0$, l'équation possède une unique solution :\n",
    "$$x = \\frac{-b}{2a}$$\n",
    "+ Si $\\Delta < 0$, l'équation ne possède pas de solution réelle."
   ]
  },
  {
   "cell_type": "markdown",
   "metadata": {},
   "source": [
    "<p style=\"font-size:150%; line-height:150%; font-weight:bold; background-color:#FFDD00\">Exercice de CM :</p>\n",
    "\n",
    "Résoudre l'équation $x^2 - 4x + 3 = 0$"
   ]
  },
  {
   "cell_type": "markdown",
   "metadata": {},
   "source": [
    "<p style=\"font-size:150%; line-height:150%; font-weight:bold; background-color:#FFDD00\">Exercice de TP :</p>"
   ]
  },
  {
   "cell_type": "markdown",
   "metadata": {},
   "source": [
    "Implémentez une fonction `solve2(C)` qui prend en paramètre $C$ un `numpy.array` contenant les coefficients :\n",
    "$$C = \\lbrack a,b,c \\rbrack$$\n",
    "et qui retourne un `numpy.array` contenant les éventuelles solutions (lorsqu'il y a $2$ solutions, ordonnez-les).\n",
    "\n",
    "Testez votre fonction sur l'exemple précédent, ainsi que sur les deux équations suivantes :\n",
    "$$x^2 + x + 1 = 0$$\n",
    "$$x^2 + 2x + 1 = 0$$\n",
    "\n",
    "**Déposez votre fonction `solve2(C)` sur Moodle avant la fin de la semaine**"
   ]
  },
  {
   "cell_type": "code",
   "execution_count": 2,
   "metadata": {},
   "outputs": [],
   "source": [
    "# Fonction solve2\n",
    "def solve2(C):\n",
    "    a,b,c = C[0],C[1],C[2]\n",
    "    delta = b**2 - 4*a*c\n",
    "    if delta<0 :\n",
    "        return []\n",
    "    elif delta == 0:\n",
    "        return [-b/(2*a)]\n",
    "    else :\n",
    "        return [(-b-np.sqrt(delta))/(2*a),(-b+np.sqrt(delta))/(2*a)]"
   ]
  },
  {
   "cell_type": "code",
   "execution_count": 3,
   "metadata": {},
   "outputs": [
    {
     "name": "stdout",
     "output_type": "stream",
     "text": [
      "[-1.0]\n",
      "[]\n",
      "[-1.0, 0.3333333333333333]\n"
     ]
    }
   ],
   "source": [
    "# Tests de la fonction solve2\n",
    "print(solve2([1,2,1]))\n",
    "print(solve2([1,0,1]))\n",
    "print(solve2([3,2,-1]))"
   ]
  },
  {
   "cell_type": "markdown",
   "metadata": {},
   "source": [
    "<p style=\"font-size:150%; line-height:150%; font-weight:bold; color:#AD84AD\">Pour aller plus loin :</p>"
   ]
  },
  {
   "cell_type": "markdown",
   "metadata": {},
   "source": [
    "+ Recherchez la méthode de résolution des équations de degré $3$, utilisant les formules de Cardan\n",
    "+ Implémentez une fonction `solve3` similaire à l'exercice précédent, pour les équations de degré $3$\n",
    "+ Faites un résumé de **trois lignes maximum** que **vous comprenez** sur **la théorie de Galois des équations algébriques**"
   ]
  },
  {
   "cell_type": "markdown",
   "metadata": {},
   "source": [
    "Résolution d'équation de degré $3$ avec les formules de Cardan :\n",
    "\n",
    "<p style=\"font-size:150%; line-height:150%; font-weight:bold; color:#D67D3A\">A compléter ...</p>"
   ]
  },
  {
   "cell_type": "code",
   "execution_count": 4,
   "metadata": {},
   "outputs": [],
   "source": [
    "\n",
    "def solve3(C):\n",
    "    #equation of form ax**3 + bx**2 + cx + d = 0\n",
    "    a,b,c,d = C[0],C[1],C[2],C[3]\n",
    "    \n",
    "    deviation = -b/(3*a) #x coordinate of the inflexion point\n",
    "    #we deviate the equation to put the inflexion point on the y axis so that we cat get rid of the x**2 term\n",
    "    \n",
    "    #parameters of the reduced equation x**3 + px + q = 0\n",
    "    p = (c/a)-(b**2/(3*(a**2)))\n",
    "    q = ((2*b**2)/(27*a**3))-((b*c)/3*a**2)+(d/a)\n",
    "    \n",
    "    delta = (q/2)**2+(p/3)**3 #3rd degree equation discriminant\n",
    "    \n",
    "    if p==0 and q==0 : #exeption when p and q are null\n",
    "        return [0]\n",
    "    \n",
    "    if delta > 0 : #positive discriminant, one real solution\n",
    "        u = ((-q/2)-delta**0.5)**(1/3)\n",
    "        v = ((-q/2)+delta**0.5)**(1/3)\n",
    "        r = u+v+deviation\n",
    "        return [r]\n",
    "    \n",
    "    elif delta == 0 : #null discriminant, two real solutions\n",
    "        r0 = (3*q)/p\n",
    "        r1 = -(3*q)/(2*p)\n",
    "        \n",
    "        return [r0+deviation,r1+deviation]\n",
    "    \n",
    "    else : #negative discriminant, three real solutions\n",
    "        R = []\n",
    "        for i in range(3): #computation of the three real solutions obtained from the three conjugate cube roots of the discriminant\n",
    "            \n",
    "            #angle of the solution\n",
    "            angle = (3*q)/(2*p) \n",
    "            angle *= (3/-p)**(1/3)\n",
    "            angle *= 1/3\n",
    "            angle += 2*i*np.pi/3\n",
    "            print(angle)\n",
    "            \n",
    "            R.append(2*(-p/3)**(1/3)*np.cos(angle) + deviation)\n",
    "        \n",
    "        return R\n",
    "    "
   ]
  },
  {
   "cell_type": "code",
   "execution_count": 5,
   "metadata": {},
   "outputs": [
    {
     "name": "stdout",
     "output_type": "stream",
     "text": [
      "0.26456684199469993\n",
      "2.3589619443878953\n",
      "4.453357046781091\n",
      "[2.432166357050209, -1.786721649563848, -0.6454447074863615]\n"
     ]
    },
    {
     "data": {
      "text/plain": [
       "<matplotlib.collections.PathCollection at 0x20b00437748>"
      ]
     },
     "execution_count": 5,
     "metadata": {},
     "output_type": "execute_result"
    },
    {
     "data": {
      "image/png": "[encoded data removed]",
      "text/plain": [
       "<Figure size 432x288 with 1 Axes>"
      ]
     },
     "metadata": {
      "needs_background": "light"
     },
     "output_type": "display_data"
    }
   ],
   "source": [
    "# Tests de la fonction solve3\n",
    "fig,ax = plt.subplots(1,1)\n",
    "\n",
    "C = [1,0,-6,-4]\n",
    "def f(C,x):\n",
    "    return(C[0]*x**3 + C[1]*x**2 + C[2]*x + C[3])\n",
    "\n",
    "X = np.linspace(-3,3,1000)\n",
    "Y = f(C,X)\n",
    "print(solve3(C))\n",
    "\n",
    "ax.plot(X,Y)\n",
    "ax.axhline(y=0, c='k')\n",
    "ax.axvline(x=0, c='k')\n",
    "ax.scatter(C,np.zeros(len(C)))\n"
   ]
  },
  {
   "cell_type": "markdown",
   "metadata": {},
   "source": [
    "Petit résumé élémentaire de la théorie de Galois :\n",
    "\n",
    "<p style=\"font-size:150%; line-height:150%; font-weight:bold; color:#D67D3A\">A compléter ...</p>"
   ]
  },
  {
   "cell_type": "markdown",
   "metadata": {},
   "source": [
    "<p style=\"font-size:200%; line-height:200%; font-weight:bold; background-color:#2F52A3; color:white\">Résolutions numériques</p>"
   ]
  },
  {
   "cell_type": "markdown",
   "metadata": {},
   "source": [
    "<p style=\"font-size:150%; line-height:150%; font-weight:bold; color:#2F52A3\">Méthode sur l'étagère</p>"
   ]
  },
  {
   "cell_type": "markdown",
   "metadata": {},
   "source": [
    "+ Il s'agit juste ici d'utiliser la fonction `fsolve` du module `scipy.optimize`.\n",
    "+ Cette fonction requiert d'être initialisée avec une condition \"bien choisie\""
   ]
  },
  {
   "cell_type": "markdown",
   "metadata": {},
   "source": [
    "**Exemples :** On considère les deux fonctions suivantes :\n",
    "\n",
    "$$f(x) = e^{-x} - x$$\n",
    "$$g(x) = x^3 - x + 1$$\n",
    "$$h(x) = x^3 - 4x + 1$$\n",
    "\n",
    "+ Pour obtenir une bonne condition initiale, on représente graphiquement les fonctions\n",
    "+ Puis on teste différentes conditions ...\n",
    "\n",
    "<p style=\"font-size:150%; line-height:150%; font-weight:bold; background-color:#FFDD00\">Exercice de CM :</p>\n",
    "\n",
    "Préparer une série de tests unitaires pour cette fonction `fsolve` :\n",
    "\n",
    "+ différentes fonctions : qui s'annullent une fois, plusieurs fois, jamais, etc.\n",
    "+ différents comportements : croissante, décroissante, convexe, point d'inflexion, etc.\n",
    "+ différentes conditions initiales : \"loin\", \"proche\" de la solution, exactement sur la solution, etc."
   ]
  },
  {
   "cell_type": "code",
   "execution_count": 6,
   "metadata": {},
   "outputs": [
    {
     "data": {
      "image/png": "[encoded data removed]",
      "text/plain": [
       "<Figure size 432x288 with 1 Axes>"
      ]
     },
     "metadata": {
      "needs_background": "light"
     },
     "output_type": "display_data"
    },
    {
     "name": "stdout",
     "output_type": "stream",
     "text": [
      "[0.]\n"
     ]
    }
   ],
   "source": [
    "def f(x):\n",
    "    return np.sin(x)\n",
    "    #return np.exp(-x)-x\n",
    "\n",
    "# print(np.linspace(0,1,10)) # min, max, nbr_val\n",
    "\n",
    "# Construction du graphique\n",
    "x = np.linspace(-1.5,3.5,100)\n",
    "y = f(x)\n",
    "\n",
    "#plt.plot([1,2,3],[4,0,6])\n",
    "plt.plot(x,y)\n",
    "\n",
    "y = 0*x\n",
    "plt.plot(x,y)\n",
    "\n",
    "plt.show()\n",
    "\n",
    "# Usage de fsolve\n",
    "# Essayer init = 0 avec g !\n",
    "\n",
    "init = 1\n",
    "sol = fsolve(f,init)\n",
    "print(sol)\n"
   ]
  },
  {
   "cell_type": "markdown",
   "metadata": {},
   "source": [
    "<p style=\"font-size:150%; line-height:150%; font-weight:bold; background-color:#FFDD00\">Exercice de TP :</p>"
   ]
  },
  {
   "cell_type": "markdown",
   "metadata": {},
   "source": [
    "Mettez en oeuvre les tests définis dans l'exercice de CM et utilisez également les fonctions ci-dessous.\n",
    "Pour les deux dernières, trouvez des conditions initiales qui ne plaisent pas à `fsolve`.\n",
    "\n",
    "$$ f(x) = -24 + 14 x + 25 x^2 - 15 x^3 - x^4 + x^5,\\, g(x) = (x^2 - 2)^2,\\, h(x) = \\frac{1}{1+x^4}$$\n",
    "\n",
    "**Appelez l'enseignant pour qu'il valide votre campagne de tests.**"
   ]
  },
  {
   "cell_type": "code",
   "execution_count": 7,
   "metadata": {},
   "outputs": [
    {
     "name": "stderr",
     "output_type": "stream",
     "text": [
      "C:\\Users\\Julien\\anaconda3\\lib\\site-packages\\scipy\\optimize\\minpack.py:175: RuntimeWarning: The iteration is not making good progress, as measured by the \n",
      "  improvement from the last ten iterations.\n",
      "  warnings.warn(msg, RuntimeWarning)\n",
      "C:\\Users\\Julien\\anaconda3\\lib\\site-packages\\scipy\\optimize\\minpack.py:175: RuntimeWarning: The number of calls to function has reached maxfev = 400.\n",
      "  warnings.warn(msg, RuntimeWarning)\n"
     ]
    },
    {
     "data": {
      "image/png": "[encoded data removed]",
      "text/plain": [
       "<Figure size 1440x504 with 3 Axes>"
      ]
     },
     "metadata": {
      "needs_background": "light"
     },
     "output_type": "display_data"
    }
   ],
   "source": [
    "# Tests de la fonction fsolve\n",
    "\n",
    "#déclaration des fonctions\n",
    "def f(x):\n",
    "    return x**5-x**4-15*x**3+25*x**2+14*x-24\n",
    "\n",
    "def g(x):\n",
    "    return (x**2-2)**2\n",
    "\n",
    "def h(x):\n",
    "    return 1/(1+x**4)\n",
    "\n",
    "#affichage des fonctions\n",
    "fig,ax = plt.subplots(1,3, figsize=(20,7))\n",
    "\n",
    "def affiche(f, Xrange, i):\n",
    "    X = np.linspace(Xrange[0],Xrange[1],1000)\n",
    "    Y = f(X)\n",
    "    ax[i].plot(X,Y)\n",
    "    ax[i].set_title(str(f).split()[1])\n",
    "    ax[i].grid(True, which='both')\n",
    "    ax[i].axhline(y=0, color='k')\n",
    "    ax[i].axvline(x=0, color='k')\n",
    "    \n",
    "    #test\n",
    "    init = 0\n",
    "    sol = fsolve(f,init)\n",
    "    if abs(sol)<10 :\n",
    "        ax[i].plot(sol, 0, marker='o', c='r')\n",
    "\n",
    "affiche(f, (-10,10), 0)\n",
    "affiche(g, (-10,10), 1)\n",
    "affiche(h, (-10,10), 2)\n",
    "\n",
    "plt.show()"
   ]
  },
  {
   "cell_type": "markdown",
   "metadata": {},
   "source": [
    "<p style=\"font-size:150%; line-height:150%; font-weight:bold; color:#2F52A3\">Dichotomie</p>"
   ]
  },
  {
   "cell_type": "markdown",
   "metadata": {},
   "source": [
    "#### Principe général"
   ]
  },
  {
   "cell_type": "markdown",
   "metadata": {},
   "source": [
    "A chaque étape, la taille de l'espace de recherche est divisé par deux."
   ]
  },
  {
   "cell_type": "markdown",
   "metadata": {},
   "source": [
    "#### Recherche dichotomique"
   ]
  },
  {
   "cell_type": "markdown",
   "metadata": {},
   "source": [
    "**Théorème (des valeurs intermédiaires) :** Soit $f$ une fonction **continue** sur un intervalle $\\lbrack a,b \\rbrack$, telle que $f(a)f(b)<0$, alors il existe $c \\in \\lbrack a,b \\rbrack$ tel que $f(c) = 0$."
   ]
  },
  {
   "cell_type": "markdown",
   "metadata": {},
   "source": [
    "**Algorithme :**\n",
    "\n",
    "Entrée : $f$, $a$, $b$, $\\varepsilon$\n",
    "\n",
    "Sortie : $m$\n",
    "\n",
    "+ On cherche $c$ dans l'intervalle $\\lbrack a, b \\rbrack$\n",
    "+ On introduit : $m = \\frac{a+b}{2}$\n",
    "+ Si $f(a)f(m) < 0$, on remplace l'intervalle de recheche $\\lbrack a,b\\rbrack$ par $\\lbrack a,m\\rbrack$. Sinon, on remplace l'intervalle de recheche $\\lbrack a,b\\rbrack$ par $\\lbrack m,b\\rbrack$.\n",
    "+ On s'arrête lorsque l'intervalle est de longueur inférieur à la précision $\\varepsilon$ voulue."
   ]
  },
  {
   "cell_type": "markdown",
   "metadata": {},
   "source": [
    "<p style=\"font-size:150%; line-height:150%; font-weight:bold; background-color:#FFDD00\">Exercice de CM :</p>\n",
    "\n",
    "On considère la fonction $f(x) = \\exp(-x) -x$ dans $\\lbrack 0,1 \\rbrack$\n",
    "\n",
    "Calculez \"à la main\" les premières étapes de l'algorithme"
   ]
  },
  {
   "cell_type": "code",
   "execution_count": 8,
   "metadata": {},
   "outputs": [
    {
     "data": {
      "image/png": "[encoded data removed]",
      "text/plain": [
       "<Figure size 432x288 with 1 Axes>"
      ]
     },
     "metadata": {
      "needs_background": "light"
     },
     "output_type": "display_data"
    }
   ],
   "source": [
    "def f(x):\n",
    "    return np.exp(-x)-x\n",
    "\n",
    "a = 0\n",
    "b = 1\n",
    "\n",
    "# La courbe\n",
    "x = np.linspace(a,b,100)\n",
    "y = f(x)\n",
    "\n",
    "plt.plot(x,y)\n",
    "\n",
    "# L'axe des abscisses\n",
    "y = 0*x\n",
    "\n",
    "plt.plot(x,y)\n",
    "\n",
    "# Quelques itérations\n",
    "plt.plot([a,a],[-1,1])\n",
    "plt.plot([b,b],[-1,1])\n",
    "c = (a+b)/2\n",
    "plt.plot([c,c],[-1,1])\n",
    "\n",
    "plt.show()"
   ]
  },
  {
   "cell_type": "markdown",
   "metadata": {},
   "source": [
    "#### Remarque utile pour le TP"
   ]
  },
  {
   "cell_type": "markdown",
   "metadata": {},
   "source": [
    "Un algorithme itératif s'implémente souvent avec une boucle `while` dont la condition d'arrêt permet de réguler la précision du calcul"
   ]
  },
  {
   "cell_type": "code",
   "execution_count": 9,
   "metadata": {},
   "outputs": [
    {
     "name": "stdout",
     "output_type": "stream",
     "text": [
      "ben non, ca n'y est pas ...\n",
      "ben non, ca n'y est pas ...\n",
      "ben non, ca n'y est pas ...\n",
      "houra ! ça y est !!\n"
     ]
    }
   ],
   "source": [
    "pas_precis = True\n",
    "ca_y_est = 0\n",
    "while pas_precis:\n",
    "    if ca_y_est < 3:\n",
    "        print(\"ben non, ca n'y est pas ...\")\n",
    "    else:\n",
    "        pas_precis = False\n",
    "        print(\"houra ! ça y est !!\")\n",
    "    ca_y_est+=1\n"
   ]
  },
  {
   "cell_type": "markdown",
   "metadata": {},
   "source": [
    "<p style=\"font-size:150%; line-height:150%; font-weight:bold; background-color:#FFDD00\">Exercice de TP : Dichotomie</p>"
   ]
  },
  {
   "cell_type": "markdown",
   "metadata": {},
   "source": [
    "+ Implémentez une fonction `dicho(f,a,b,e)` qui retourne un réel $c \\in \\lbrack a,b \\rbrack$, tel que $f$ s'annulle dans un intervalle de longueur inférieure à $e$ autour de $c$\n",
    "+ Une représentation graphique a été construite en cours pour visualiser les itérations de la dichotomie. Automatisez cette construction et appelez l'enseignant pour qu'il visualise ce graphique."
   ]
  },
  {
   "cell_type": "code",
   "execution_count": 10,
   "metadata": {},
   "outputs": [],
   "source": [
    "# Codez la fonction dicho(f,a,b,e)\n",
    "def dicho(f, a, b, e):\n",
    "    res = []\n",
    "    while b-a > e :\n",
    "        c = (a+b)/2\n",
    "        C = f(c)\n",
    "        if f(a)*C<0 :\n",
    "            b=c\n",
    "        elif f(b)*C<0 :\n",
    "            a=c\n",
    "        elif f(a)==0.0 :\n",
    "            return a\n",
    "        elif f(b)==0.0 :\n",
    "            return b\n",
    "        else :\n",
    "            return None\n",
    "    return c\n",
    "\n",
    "def dichoTab(f, a, b, e):\n",
    "    res = []\n",
    "    while b-a > e :\n",
    "        c = (a+b)/2\n",
    "        res.append(c)\n",
    "        C = f(c)\n",
    "        if f(a)*C<0 :\n",
    "            b=c\n",
    "        elif f(b)*C<0 :\n",
    "            a=c\n",
    "        elif f(a)==0.0 :\n",
    "            return a\n",
    "        elif f(b)==0.0 :\n",
    "            return b\n",
    "        else :\n",
    "            return None\n",
    "    return res"
   ]
  },
  {
   "cell_type": "code",
   "execution_count": 11,
   "metadata": {},
   "outputs": [
    {
     "name": "stdout",
     "output_type": "stream",
     "text": [
      "3.6644996725954115e-05\n"
     ]
    }
   ],
   "source": [
    "def f(x):\n",
    "    return (x**2+2*x-5)\n",
    "\n",
    "r = dicho(f, -5, 2.5, 10**-4)\n",
    "print(f(r))\n",
    "# Testez votre fonction, vous pouvez utiliser \n",
    "# les mêmes exemples que ceux utilisés pour fsolve\n"
   ]
  },
  {
   "cell_type": "markdown",
   "metadata": {},
   "source": [
    "**Déposez votre fonction `dicho(f,a,b,e)` sur Moodle avant la fin de la semaine**"
   ]
  },
  {
   "cell_type": "code",
   "execution_count": 12,
   "metadata": {},
   "outputs": [
    {
     "data": {
      "text/plain": [
       "[<matplotlib.lines.Line2D at 0x20b00704388>]"
      ]
     },
     "execution_count": 12,
     "metadata": {},
     "output_type": "execute_result"
    },
    {
     "data": {
      "image/png": "[encoded data removed]",
      "text/plain": [
       "<Figure size 432x288 with 1 Axes>"
      ]
     },
     "metadata": {
      "needs_background": "light"
     },
     "output_type": "display_data"
    }
   ],
   "source": [
    "# Codez la représentation graphique\n",
    "\n",
    "X = np.linspace(-5,2.5,1000)\n",
    "Y = f(X)\n",
    "plt.plot(X,Y)\n",
    "plt.grid(True, which='both')\n",
    "plt.axhline(y=0, color='k')\n",
    "plt.axvline(x=0, color='k')\n",
    "\n",
    "R = dichoTab(f, -5, 2.5, 10**-4)\n",
    "for i in range(len(R)):\n",
    "    plt.axvline(x=R[i], c='orange', alpha=0.5)\n",
    "plt.plot(R[-1],0, marker='o', c='r')\n"
   ]
  },
  {
   "cell_type": "markdown",
   "metadata": {},
   "source": [
    "**Appelez l'enseignant pour qu'il valide votre représentation graphique.**"
   ]
  },
  {
   "cell_type": "markdown",
   "metadata": {},
   "source": [
    "<p style=\"font-size:150%; line-height:150%; font-weight:bold; color:#AD84AD\">Pour aller plus loin :</p>"
   ]
  },
  {
   "cell_type": "markdown",
   "metadata": {},
   "source": [
    "Etudiez empiriquement la complexité de la recherche dichotomique.\n",
    "\n",
    "Comparez sur plusieurs exemples les temps de calcul pour :\n",
    "+ Une recherche dichotomique\n",
    "+ Une recherche séquentielle : on commence à $a$ et on avance de $\\varepsilon$ jusqu'à avoir trouvé.\n",
    "\n",
    "**Indication :** Vous pouvez utiliser `time.clock()`"
   ]
  },
  {
   "cell_type": "code",
   "execution_count": 13,
   "metadata": {},
   "outputs": [
    {
     "name": "stdout",
     "output_type": "stream",
     "text": [
      "seq : 0.10609555244445801\n",
      "-3.450000000025555\n",
      "dicho : 0.0\n",
      "-3.449249267578125\n"
     ]
    }
   ],
   "source": [
    "# Comparez les temps de calcul\n",
    "def sequentiel(f,a,e):\n",
    "    mem = a\n",
    "    a+=e\n",
    "    while f(mem)*f(a)>0 :\n",
    "        mem=a\n",
    "        a+=e\n",
    "    return mem\n",
    "\n",
    "import time\n",
    "ts = time.time()\n",
    "r = sequentiel(f,-50,0.001)\n",
    "print(\"seq : \"+ str(time.time()-ts))\n",
    "print(r)\n",
    "\n",
    "td = time.time()\n",
    "r = dicho(f, -50, 50, 0.001)\n",
    "print(\"dicho : \"+ str(time.time()-td))\n",
    "print(r)"
   ]
  },
  {
   "cell_type": "markdown",
   "metadata": {},
   "source": [
    "<p style=\"font-size:150%; line-height:150%; font-weight:bold; color:#AD84AD\">Pour aller plus loin :</p>"
   ]
  },
  {
   "cell_type": "markdown",
   "metadata": {},
   "source": [
    "Si vous avez écrit la dichotomie de manière itérative, écrivez un code récursif !"
   ]
  },
  {
   "cell_type": "code",
   "execution_count": 14,
   "metadata": {},
   "outputs": [
    {
     "name": "stdout",
     "output_type": "stream",
     "text": [
      "-3.4494972229003906 3.6644996725954115e-05\n"
     ]
    }
   ],
   "source": [
    "# Insérez votre code\n",
    "def dichoRec(f,a,b,e):\n",
    "    c=(a+b)/2\n",
    "    if (b-a)/2 < e :\n",
    "        return (c)\n",
    "    elif f(a)*f(c)<0 :\n",
    "        return (dicho(f,a,c,e))\n",
    "    elif f(b)*f(c)<0 :\n",
    "        return (dicho(f,c,b,e))\n",
    "    elif f(a)==0 :\n",
    "        return (a)\n",
    "    elif f(b)==0 :\n",
    "        return (b)\n",
    "\n",
    "def f(x):\n",
    "    return (x**2+2*x-5)\n",
    "\n",
    "r = dichoRec(f, -5, 2.5, 10**-4)\n",
    "print(r,f(r))"
   ]
  },
  {
   "cell_type": "markdown",
   "metadata": {},
   "source": [
    "<p style=\"font-size:150%; line-height:150%; font-weight:bold; color:#2F52A3\">Méthode de Newton</p>"
   ]
  },
  {
   "cell_type": "markdown",
   "metadata": {},
   "source": [
    "#### Principe général"
   ]
  },
  {
   "cell_type": "markdown",
   "metadata": {},
   "source": [
    "Il faut, à minima, que la fonction $f$ soit dérivable, mais ce n'est pas suffisant.\n",
    "\n",
    "On itère la suite définie par récurrence par $x_0 \\in \\mathbb{R},\\,x_{n+1} = x_n - \\frac{f(x_n)}{f'(x_n)}$. A nouveau, le choix d'une bonne condition initial est important.\n",
    "\n",
    "La convergence de cette méthode est plus rapide mais plus variable $\\ldots$"
   ]
  },
  {
   "cell_type": "markdown",
   "metadata": {},
   "source": [
    "#### Explication"
   ]
  },
  {
   "cell_type": "markdown",
   "metadata": {},
   "source": [
    "La tangente à la courbe représentative de $f$ en un point $x_n$, a pour équation :\n",
    "$$ y = f'(x_n) (x-x_n) + f(x_n) $$\n",
    "\n",
    "Cette droite coupe d'axe des abscisses au point d'abscisse $x_{n+1}$ solution de l'équation :\n",
    "$$ 0 = f'(x_n) (x_{n+1}-x_n) + f(x_n) $$\n",
    "\n",
    "C'est à dire :\n",
    "$$x_{n+1} = x_n - \\frac{f(x_n)}{f'(x_n)}$$"
   ]
  },
  {
   "cell_type": "code",
   "execution_count": 24,
   "metadata": {},
   "outputs": [
    {
     "data": {
      "image/png": "[encoded data removed]",
      "text/plain": [
       "<Figure size 432x288 with 1 Axes>"
      ]
     },
     "metadata": {
      "needs_background": "light"
     },
     "output_type": "display_data"
    }
   ],
   "source": [
    "# Pour ce TP, les dérivées sont calculées \"à la main\", \"papier-crayon\",\n",
    "# puis codées \"en dur\"\n",
    "# Cette problématique sera abordée ultérieurement ...\n",
    "def df(x):\n",
    "    return -np.exp(-x)-1\n",
    "\n",
    "# La courbe\n",
    "x = np.linspace(-3,0,100)\n",
    "y = f(x)\n",
    "\n",
    "plt.plot(x,y)\n",
    "\n",
    "# L'axe des abscisses\n",
    "y = 0*x\n",
    "\n",
    "plt.plot(x,y)\n",
    "\n",
    "# Début de l'algorithme de Newton\n",
    "x_init = -1.5\n",
    "plt.plot(x_init, 0, marker='o', markersize = 15)\n",
    "plt.plot([x_init,x_init],[0,f(x_init)], linestyle = 'dashed', linewidth = 4)\n",
    "\n",
    "# La tangente en x_init\n",
    "y = df(x_init)*(x - x_init) + f(x_init)\n",
    "\n",
    "plt.plot(x,y)\n",
    "\n",
    "# Premier point\n",
    "x_un = x_init - f(x_init)/df(x_init)\n",
    "\n",
    "plt.plot(x_un, 0, marker='o', markersize = 15)\n",
    "\n",
    "plt.show()"
   ]
  },
  {
   "cell_type": "markdown",
   "metadata": {},
   "source": [
    "#### Quelques résultats théoriques\n",
    "\n",
    "**Théorème :** Soit $f : I \\to \\mathbb{R}$ une fonction de classe $\\mathcal{C}^2$ sur un intervalle ouvert $I$ de $\\mathbb{R}$. \n",
    "Soit $\\alpha \\in I$ tel que $f(\\alpha) = 0$ et $f'(\\alpha) \\not= 0$.\n",
    "Alors il existe $\\eta > 0$ tel que pour tout $x_0 \\in \\rbrack \\alpha - \\eta, \\alpha + \\eta \\lbrack$, la suite précédente converge.\n",
    "\n",
    "\n",
    "**Théorème :** Soit $f : I \\to \\mathbb{R}$ une fonction de classe $\\mathcal{C}^1$ sur un intervalle ouvert $I$ de $\\mathbb{R}$, strictement croissante et convexe, et $\\alpha \\in I$ tel que $f(\\alpha) = 0$.\n",
    "Soit $x_0 \\in I, x_0 > \\alpha$. Alors la suite précédente converge en décroissant vers $\\alpha$.\n",
    "\n",
    "**Remarques :**\n",
    "\n",
    "+ Comme $\\alpha$ est inconnu, ce n'est pas possible de vérifier la condition a priori.\n",
    "+ Il n'y a aucun moyen de connaitre \"précisément\" $\\eta$.\n",
    "+ Il n'y a aucun moyen de savoir quand arrêter le calcul.\n",
    "\n",
    "**Problème de la condition d'arrêt :**\n",
    "\n",
    "Deux approches \"classiques\" sont utilisables :\n",
    "\n",
    "+ $|x_{n+1} - x_{n}|< \\varepsilon$\n",
    "+ $|f(x_{n})| < \\varepsilon$\n",
    "\n",
    "Mais il faut des conditions supplémentaires pour s'assurer qu'elles sont valides."
   ]
  },
  {
   "cell_type": "markdown",
   "metadata": {},
   "source": [
    "#### Quelques fonctions `Python`"
   ]
  },
  {
   "cell_type": "code",
   "execution_count": 16,
   "metadata": {},
   "outputs": [
    {
     "name": "stdout",
     "output_type": "stream",
     "text": [
      "1\n",
      "[1 2 3]\n",
      "1\n",
      "[-2.  2.  3.]\n"
     ]
    }
   ],
   "source": [
    "# Quelques fonctions utiles\n",
    "print(abs(-1)) # la valeur absolue\n",
    "print(np.abs(np.array([-1,-2,-3]))) # sur tout un tableau\n",
    "print(math.floor(1.9)) # arrondi inférieur\n",
    "print(np.floor(np.array([-1.2,2.2,3.6]))) # sur tout un tableau"
   ]
  },
  {
   "cell_type": "markdown",
   "metadata": {},
   "source": [
    "<p style=\"font-size:150%; line-height:150%; font-weight:bold; background-color:#FFDD00\">Exercice de TP : la méthode de Newton</p>"
   ]
  },
  {
   "cell_type": "markdown",
   "metadata": {},
   "source": [
    "+ Implémentez une fonction `newton(f,df,x_init,e)` qui implémente la méthode de Newton pour la fonction $f$ et sa dérivée $df$ (aucune vérification sur le fait que $df$ est bien la dérivée de $f$ ne sera faite), avec $x_{init}$ comme premier terme et $\\varepsilon$ comme seuil pour la condition d'arrêt (pour Moodle, codez la condition $| x_{n+1} - x_n | < \\varepsilon$).\n",
    "+ Lors de vos tests, vous changerez la condition d'arrêt :\n",
    "    1. $|x_{n+1} - x_{n}|< \\varepsilon$\n",
    "    2. $|f(x_{n})| < \\varepsilon$\n",
    "    3. Les deux simultanément\n",
    "+ Une représentation graphique a été construite en cours pour visualiser les itérations de la méthode de Newton. Automatisez cette construction et appelez l'enseignant pour qu'il visualise ce graphique."
   ]
  },
  {
   "cell_type": "code",
   "execution_count": 17,
   "metadata": {},
   "outputs": [],
   "source": [
    "# Codez la fonction Newton(f,df,x,e)\n",
    "def Newton(f,df,x_init,e):\n",
    "    X = [x_init]\n",
    "    X.append(x_init-f(x_init)/df(x_init))\n",
    "    while abs(X[-1]-X[-2])>=e and abs(f(X[-1]))>=e :\n",
    "        X.append(X[-1]-f(X[-1])/df(X[-1]))\n",
    "    return (X[-1])\n",
    "\n",
    "def NewtonTab(f,df,x_init,e):\n",
    "    X = [x_init]\n",
    "    X.append(x_init-f(x_init)/df(x_init))\n",
    "    while abs(X[-1]-X[-2])>=e and abs(f(X[-1]))>=e :\n",
    "        X.append(X[-1]-f(X[-1])/df(X[-1]))\n",
    "    return (X)"
   ]
  },
  {
   "cell_type": "markdown",
   "metadata": {},
   "source": [
    "Pour la méthode de Newton, en plus des exemples précédents, testez également :\n",
    "\n",
    "+ $f(x) = \\sqrt{|x|}$ avec $x_0 \\not= 0$\n",
    "+ $f(x) = x^3 -2x + 2$ avec $x_0 = 0$ ou $x_0 = 1$\n"
   ]
  },
  {
   "cell_type": "code",
   "execution_count": 18,
   "metadata": {},
   "outputs": [],
   "source": [
    "# Testez la fonction Newton avec les exemples précédents\n",
    "# (les anciens et les nouveaux)\n",
    "# Calculez les dérivées \"à la main\"\n",
    "# Changez de condition d'arrêt.\n",
    "\n",
    "def f1(x):\n",
    "    return (np.sqrt(abs(x)))\n",
    "\n",
    "def df1(x):\n",
    "    return (x/(2*abs(x)*f(x)))\n",
    "\n",
    "def f2(x):\n",
    "    return (x**3-2*x+2)\n",
    "\n",
    "def df2(x):\n",
    "    return(3*x-2)"
   ]
  },
  {
   "cell_type": "markdown",
   "metadata": {},
   "source": [
    "**Déposez votre fonction `newton(f,df,x_init,e)` sur Moodle avant la fin de la semaine**"
   ]
  },
  {
   "cell_type": "code",
   "execution_count": 19,
   "metadata": {},
   "outputs": [
    {
     "data": {
      "image/png": "[encoded data removed]",
      "text/plain": [
       "<Figure size 720x504 with 1 Axes>"
      ]
     },
     "metadata": {
      "needs_background": "light"
     },
     "output_type": "display_data"
    }
   ],
   "source": [
    "# Codez la représentation graphique\n",
    "def f(x):\n",
    "    return (x**2+2*x-5)\n",
    "\n",
    "def df(x):\n",
    "    return (2*x+2)\n",
    "\n",
    "def getTan(f, df, X, x):\n",
    "    b = -df(x)*x+f(x)\n",
    "    Y = df(x)*X + b\n",
    "    return Y\n",
    "\n",
    "fig, ax = plt.subplots(1,1,figsize=(10,7))\n",
    "\n",
    "def afficherNewton(f, df, R):\n",
    "    #définition des valeurs en X et Y\n",
    "    X = np.linspace(min(R)-1, max(R)+1, 1000)\n",
    "    Y = f(X)\n",
    "    \n",
    "    ax.plot(X,Y) #on trace la fonction\n",
    "    \n",
    "    for i in range(len(R)):#pour chaque point\n",
    "        #on trace la tangente\n",
    "        T = getTan(f, df, X, R[i])\n",
    "        ax.plot(X,T,c='green', alpha=0.1)\n",
    "        \n",
    "        #on trace le trait vertical\n",
    "        ax.plot([R[i],R[i]],[0,f(R[i])],c='lime', alpha=0.5)\n",
    "        \n",
    "        #on trace le trait suivant la tangente\n",
    "        if i>0 :\n",
    "            ax.plot([R[i-1],R[i]],[f(R[i-1]),0],c='green', alpha=0.5)\n",
    "    \n",
    "    ax.plot(R[-1],0,c='r', marker='o') #on marque la solution\n",
    "    ax.set_ylim([min(Y), max(Y)]) #on limite l'affichage à cause des tangentes\n",
    "    ax.grid(True, which='both') #grille\n",
    "    ax.axhline(y=0, color='k') #axe des ordonnées\n",
    "    ax.axvline(x=0, color='k') #axe des abscisses\n",
    "\n",
    "R = NewtonTab(f, df, 0, 10**-3)\n",
    "\n",
    "afficherNewton(f, df, R)"
   ]
  },
  {
   "cell_type": "markdown",
   "metadata": {},
   "source": [
    "**Appelez l'enseignant pour qu'il valide votre représentation graphique.**"
   ]
  },
  {
   "cell_type": "markdown",
   "metadata": {},
   "source": [
    "<p style=\"font-size:150%; line-height:150%; font-weight:bold; color:#AD84AD\">Pour aller plus loin :</p>"
   ]
  },
  {
   "cell_type": "markdown",
   "metadata": {},
   "source": [
    "+ Faites une recherche sur la \"séparation des racines\" d'un polynômes\n",
    "+ Utilisez le résultat de votre recherche et vos fonctions précédentes (dichotomie et/ou Newton) afin de mettre en oeuvre une fonction retournant toutes les racines réelles d'un polynôme."
   ]
  },
  {
   "cell_type": "markdown",
   "metadata": {},
   "source": [
    "Notion de séparation des racines\n",
    "\n",
    "<p style=\"font-size:150%; line-height:150%; font-weight:bold; color:#D67D3A\">A compléter ...</p>"
   ]
  },
  {
   "cell_type": "code",
   "execution_count": 20,
   "metadata": {},
   "outputs": [
    {
     "name": "stdout",
     "output_type": "stream",
     "text": [
      "[-0.44, 0.6, 1.84]\n"
     ]
    }
   ],
   "source": [
    "# Code de votre fonction\n",
    "def f(x):\n",
    "    return (x**3-2*x**2+0.01*x+0.5)\n",
    "\n",
    "#fonction qui renvoie une troncature de nb à n chiffres après la virgule\n",
    "def getDec(nb, n):\n",
    "    s = str(nb)\n",
    "    i=0\n",
    "    while i<len(s) and s[i]!=\".\" :\n",
    "        i+=1\n",
    "    i = min(len(s), i+n)\n",
    "    return float(s[:i])\n",
    "\n",
    "#fonction qui calcule une approximation de la dérivée\n",
    "def deriv(x,f,e):\n",
    "    return ((f(x+e)-f(x-e))/(2*e))\n",
    "\n",
    "#fonction de l'algorithme de Newton adapté pour ce cas\n",
    "def Newton2(f,deriv,x_init,e):\n",
    "    X = [x_init]\n",
    "    X.append(x_init-f(x_init)/deriv(x_init,f,e))\n",
    "    while abs(X[-1]-X[-2])>=e and abs(f(X[-1]))>=e :\n",
    "        X.append(X[-1]-f(X[-1])/deriv(X[-1],f,e))\n",
    "    return (X[-1])\n",
    "\n",
    "'''\n",
    "fonction de recherche des poles de f compris dans Xrange\n",
    "n est le nombre de chiffres significatifs voulus\n",
    "'''\n",
    "def racines(f, Xrange, n):\n",
    "    n+=1 #on augmente n car il faut être plus précis afin de s'assurer des valeurs\n",
    "    e = 10**-n #précision\n",
    "    V = np.linspace(Xrange[0], Xrange[1], int((Xrange[1]-Xrange[0])//e)) #tableau de valeurs initiales\n",
    "    S = [] #liste des solutions trouvées\n",
    "    \n",
    "    for i in range(len(V)):\n",
    "        if abs(f(V[i]))<e*100 : #cette condition sert surtout à accélérer le programme\n",
    "            S.append(Newton2(f,deriv,V[i],e)) #on ajoute une nouvelle solution\n",
    "    \n",
    "    #procédé d'élimination des solutions identiques\n",
    "    res = []\n",
    "    for i in range(len(S)):\n",
    "        a = getDec(S[i], n-1)\n",
    "        if not a in res :\n",
    "            res.append(a)\n",
    "    \n",
    "    return res\n",
    "\n",
    "n=3\n",
    "R = racines(f, (-10,10), n)\n",
    "print(R)\n",
    "    "
   ]
  },
  {
   "cell_type": "markdown",
   "metadata": {},
   "source": [
    "<p style=\"font-size:150%; line-height:150%; font-weight:bold; color:#2F52A3\">Méthode du point fixe</p>"
   ]
  },
  {
   "cell_type": "markdown",
   "metadata": {},
   "source": [
    "#### Principe général"
   ]
  },
  {
   "cell_type": "markdown",
   "metadata": {},
   "source": [
    "+ Etant donnée une fonction $f$ d'une variable réelle à valeurs réelles, un point fixe $x \\in \\mathbb{R}$ est une solution de l'équation $f(x) = x$.\n",
    "+ Si $x$ est un point fixe alors $\\ldots$ il ne bouge pas :\n",
    "$$ \\ldots = f(f(f(x))) = f(f(x)) = f(x) = x$$\n",
    "+ Sous certaines hypothèses (par exemple $f$ contractante), on trouve un point fixe en itérant la suite :\n",
    "$$x_{n+1} = f(x_n)$$"
   ]
  },
  {
   "cell_type": "markdown",
   "metadata": {},
   "source": [
    "#### Résultats théoriques\n",
    "\n",
    "**Définition :** Une fonction $f : I \\to \\mathbb{R}$ est contractante lorsque :\n",
    "$$\\exists k \\in \\rbrack 0,1\\lbrack,\\forall x,y \\in I, |f(y) - f(x)| < k |y-x|$$\n",
    "\n",
    "**Théorème :** Si $f$ est contractante et possède un point fixe, alors la suite précédente converge."
   ]
  },
  {
   "cell_type": "markdown",
   "metadata": {},
   "source": [
    "#### Condition d'arrêt"
   ]
  },
  {
   "cell_type": "markdown",
   "metadata": {},
   "source": [
    "Lorsque la suite converge vers un point fixe, alors la condition suivante est exploitable :\n",
    "$$|x_{n+1} - x_n| < \\varepsilon$$"
   ]
  },
  {
   "cell_type": "markdown",
   "metadata": {},
   "source": [
    "<p style=\"font-size:150%; line-height:150%; font-weight:bold; background-color:#FFDD00\">Exercice de CM : la suite logistique</p>\n",
    "\n",
    "Soit la fonction $f$ suivante :\n",
    "$$ f(x) = \\mu x (1-x)$$\n",
    "\n",
    "Nous allons étudier la suite logisitique définie par $x_0 \\in \\mathbb{R},\\, x_{n+1} = f(x_n)$. Autrement dit, on s'intéresse au point fixe de $f$ pour différentes valeur de $\\mu$ (et différentes conditions initiales $x_0$).\n",
    "\n",
    "Valeurs de $\\mu$ à essayer : $\\frac{1}{2}, 1, 2, 3, 1 + \\sqrt{5}, 1 + \\sqrt{6}, 1 + \\sqrt{8}, 3.45, 3.54$\n",
    "\n",
    "Varier les conditions initiales"
   ]
  },
  {
   "cell_type": "code",
   "execution_count": 21,
   "metadata": {},
   "outputs": [
    {
     "data": {
      "image/png": "[encoded data removed]",
      "text/plain": [
       "<Figure size 432x288 with 1 Axes>"
      ]
     },
     "metadata": {
      "needs_background": "light"
     },
     "output_type": "display_data"
    },
    {
     "name": "stdout",
     "output_type": "stream",
     "text": [
      "0.5 0.9571067811865476 0.15716991411008918\n"
     ]
    }
   ],
   "source": [
    "mu = 1 + math.sqrt(8)\n",
    "\n",
    "def logit(mu,x):\n",
    "    return mu*x*(1 - x)\n",
    "\n",
    "# La courbe\n",
    "x = np.linspace(-1,2,100)\n",
    "y = logit(mu,x)\n",
    "\n",
    "plt.plot(x,y)\n",
    "\n",
    "# Les droites y = x et y = 0\n",
    "plt.plot(x,x)\n",
    "plt.plot(x,0*x)\n",
    "\n",
    "# Première itération\n",
    "x_0 = 0.5\n",
    "x_1 = logit(mu,x_0) # Nouveau point\n",
    "# On calcule, puis on reporte\n",
    "plt.plot([x_0,x_0,x_1,x_1],[0,x_1,x_1,0], color = \"black\") \n",
    "\n",
    "# Seconde itération\n",
    "x_2 = logit(mu,x_1)\n",
    "plt.plot([x_1,x_1,x_2,x_2],[0,x_2,x_2,0], color = \"black\")\n",
    "\n",
    "plt.ylim(-1,2)\n",
    "plt.show()\n",
    "\n",
    "print(x_0,x_1,x_2)"
   ]
  },
  {
   "cell_type": "markdown",
   "metadata": {},
   "source": [
    "<p style=\"font-size:150%; line-height:150%; font-weight:bold; background-color:#FFDD00\">Exercice de TP : la méthode du point fixe</p>"
   ]
  },
  {
   "cell_type": "markdown",
   "metadata": {},
   "source": [
    "La suite logistique a volontairement été choisie parce qu'elle fonctionne mal pour la méthode du point fixe. \n",
    "\n",
    "Pour implémenter la méthode du point fixe, vous utiliserez la condition d'arrêt ci-dessus et vous ajouterez une limitation à $N = 1000$ itérations (ou moins, à vous de tester). Si ce nombre maximal d'itérations est atteint, vous retournerez un message indiquant que la méthode a échoué.\n",
    "\n",
    "L'important dans cet exercice est la visualisation. Automatisez ce qui a été entamé en cours."
   ]
  },
  {
   "cell_type": "code",
   "execution_count": 22,
   "metadata": {},
   "outputs": [
    {
     "name": "stdout",
     "output_type": "stream",
     "text": [
      "0.3333333326795955\n"
     ]
    },
    {
     "data": {
      "image/png": "[encoded data removed]",
      "text/plain": [
       "<Figure size 432x288 with 1 Axes>"
      ]
     },
     "metadata": {
      "needs_background": "light"
     },
     "output_type": "display_data"
    }
   ],
   "source": [
    "# Codez, testez et visualisez la méthode du point fixe\n",
    "\n",
    "def l(x):\n",
    "    return 1.5*x*(1 - x)\n",
    "\n",
    "#fonction qui renvoie une troncature de nb à n chiffres après la virgule\n",
    "def getDec(nb, n):\n",
    "    s = str(nb)\n",
    "    i=0\n",
    "    while i<len(s) and s[i]!=\".\" :\n",
    "        i+=1\n",
    "    i = min(len(s), i+n)\n",
    "    return float(s[:i])\n",
    "\n",
    "#méthode du point fixe de manière récursive\n",
    "def pointFixeRec(f, x0, i=0):\n",
    "    if i>1000 :\n",
    "        print(\"la méthode a échoué\")\n",
    "        return None\n",
    "    else :\n",
    "        if f(x0)!=x0 :\n",
    "            return pointFixe(f, f(x0), i+1)\n",
    "        else :\n",
    "            return x0\n",
    "\n",
    "def pointFixe(f, x0, e):\n",
    "    X=[x0, f(x0)]\n",
    "    while len(X)<1000 and getDec(X[-2], e) != getDec(X[-1], e) :\n",
    "        X.append(f(X[-1]))\n",
    "    return X\n",
    "\n",
    "def afficherPF(f, x0, e):\n",
    "    X = pointFixe(f,x0,e)\n",
    "    print(X[-1])\n",
    "    XX = np.linspace(0,1,1000)\n",
    "    YY = f(XX)\n",
    "    plt.plot(XX,YY, c='C00')\n",
    "    plt.plot(XX,XX, c='C01')\n",
    "    plt.axvline(x=0, c='k')\n",
    "    plt.axhline(y=0, c='k')\n",
    "    plt.grid(True)\n",
    "    \n",
    "    for i in range(len(X)-2):\n",
    "        plt.plot([X[i],X[i+1]],[X[i+1], X[i+1]], c='g')\n",
    "        plt.plot([X[i+1],X[i+1]],[X[i+1],X[i+2]], c='g')\n",
    "    plt.show()\n",
    "\n",
    "fig, ax = plt.subplots(1,1)\n",
    "afficherPF(l, 0.2, 10)"
   ]
  },
  {
   "cell_type": "markdown",
   "metadata": {},
   "source": [
    "**Appelez l'enseignant pour qu'il valide votre représentation graphique.**"
   ]
  },
  {
   "cell_type": "markdown",
   "metadata": {},
   "source": [
    "<p style=\"font-size:150%; line-height:150%; font-weight:bold; color:#D67D3A\">Attention : </p>\n",
    "\n",
    "+ Pour le TP01, pendant la séance, vous avez $4$ exercices à montrer : tests de `fsolve`, graphique de dichotomie, graphique de Newton et graphique de point fixe.\n",
    "+ Pour le TP01, avant la fin de semaine, vous avez $3$ fonctions à déposer : `solve2`, `dicho` et `newton`\n",
    "+ Lors de l'évaluation sur feuille, il vous sera demandé de calculer \"à la main\", les premiers termes d'une suite issue d'un de ces algorithmes et de faire une représentation graphique\n"
   ]
  },
  {
   "cell_type": "code",
   "execution_count": null,
   "metadata": {},
   "outputs": [],
   "source": []
  }
 ],
 "metadata": {
  "kernelspec": {
   "display_name": "Python 3",
   "language": "python",
   "name": "python3"
  },
  "language_info": {
   "codemirror_mode": {
    "name": "ipython",
    "version": 3
   },
   "file_extension": ".py",
   "mimetype": "text/x-python",
   "name": "python",
   "nbconvert_exporter": "python",
   "pygments_lexer": "ipython3",
   "version": "3.7.7"
  }
 },
 "nbformat": 4,
 "nbformat_minor": 2
}
